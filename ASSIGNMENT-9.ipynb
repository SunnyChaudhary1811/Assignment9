{
 "cells": [
  {
   "cell_type": "markdown",
   "id": "cfba9ca4",
   "metadata": {},
   "source": [
    "# ASSIGNMENT-9"
   ]
  },
  {
   "cell_type": "markdown",
   "id": "131906ca",
   "metadata": {},
   "source": [
    "Q1:"
   ]
  },
  {
   "cell_type": "markdown",
   "id": "753347c4",
   "metadata": {},
   "source": [
    "\n",
    "A lambda function in Python is a concise, anonymous function used for simple tasks. It's defined with the lambda keyword and has a single expression. Regular functions are more versatile, with names and the ability for multiple expressions. Lambdas are great for quick, one-off operations, while regular functions are better for complex or reusable tasks."
   ]
  },
  {
   "cell_type": "markdown",
   "id": "64869a15",
   "metadata": {},
   "source": [
    "Q2:-"
   ]
  },
  {
   "cell_type": "markdown",
   "id": "f289eb6f",
   "metadata": {},
   "source": [
    "\n",
    "Yes, a lambda function in Python can have multiple arguments. Define them with commas like this: lambda arg1, arg2: expression. Use them like any other function: lambda_function(arg1_value, arg2_value)."
   ]
  },
  {
   "cell_type": "code",
   "execution_count": 2,
   "id": "6219f856",
   "metadata": {},
   "outputs": [
    {
     "name": "stdout",
     "output_type": "stream",
     "text": [
      "8\n"
     ]
    }
   ],
   "source": [
    "#Example\n",
    "add = lambda x, y: x + y\n",
    "result = add(3, 5)\n",
    "print(result)  \n"
   ]
  },
  {
   "cell_type": "markdown",
   "id": "e07b9491",
   "metadata": {},
   "source": [
    "Q3:-"
   ]
  },
  {
   "cell_type": "markdown",
   "id": "2115157d",
   "metadata": {},
   "source": [
    "Lambda functions in Python are often used for short tasks like sorting, mapping, or filtering data. For instance, in sorting a list of dictionaries by a specific key or applying a quick operation to elements in a sequence using functions like sorted(), map(), or filter()."
   ]
  },
  {
   "cell_type": "code",
   "execution_count": 3,
   "id": "95051724",
   "metadata": {},
   "outputs": [
    {
     "name": "stdout",
     "output_type": "stream",
     "text": [
      "[{'name': 'Bob', 'age': 20}, {'name': 'Alice', 'age': 22}, {'name': 'Charlie', 'age': 25}]\n"
     ]
    }
   ],
   "source": [
    "#EXAMPLE\n",
    "students = [\n",
    "    {\"name\": \"Alice\", \"age\": 22},\n",
    "    {\"name\": \"Bob\", \"age\": 20},\n",
    "    {\"name\": \"Charlie\", \"age\": 25}\n",
    "]\n",
    "\n",
    "# Sort students by their age using a lambda function\n",
    "sorted_students = sorted(students, key=lambda student: student[\"age\"])\n",
    "\n",
    "print(sorted_students)\n"
   ]
  },
  {
   "cell_type": "markdown",
   "id": "6fdffb7c",
   "metadata": {},
   "source": [
    "Q4:-"
   ]
  },
  {
   "cell_type": "markdown",
   "id": "612d8d3a",
   "metadata": {},
   "source": [
    "Lambda Advantages:\n",
    "\n",
    "Concise for simple tasks.\n",
    "Inline usage.\n",
    "Can enhance readability.\n",
    "\n",
    "Lambda Limitations:\n",
    "\n",
    "Single expression.\n",
    "No statements.\n",
    "Limited reusability.\n",
    "Can be less readable for complexity.\n",
    "Debugging challenges.\n",
    "Lambda Use:\n",
    "\n",
    "Quick operations, inline.\n",
    "Regular Function Use:\n",
    "\n",
    "Complex tasks.\n",
    "Reusability, readability.\n",
    "Debugging clarity."
   ]
  },
  {
   "cell_type": "markdown",
   "id": "17a81203",
   "metadata": {},
   "source": [
    "Q5:-"
   ]
  },
  {
   "cell_type": "code",
   "execution_count": 4,
   "id": "fef61106",
   "metadata": {},
   "outputs": [],
   "source": [
    "#Yes, lambda functions in Python can access variables from their containing scope. For example:\n",
    "x = 5\n",
    "y = 10\n",
    "lambda_func = lambda z: x + y + z\n",
    "result = lambda_func(3)  # Output: 18 (5 + 10 + 3)\n",
    "#The lambda function uses x and y from the outer scope to perform calculations."
   ]
  },
  {
   "cell_type": "markdown",
   "id": "16fdc1b1",
   "metadata": {},
   "source": [
    "Q6:-"
   ]
  },
  {
   "cell_type": "code",
   "execution_count": 5,
   "id": "a7fd3aee",
   "metadata": {},
   "outputs": [
    {
     "name": "stdout",
     "output_type": "stream",
     "text": [
      "25\n"
     ]
    }
   ],
   "source": [
    "square = lambda x: x ** 2\n",
    "result = square(5)\n",
    "print(result) \n"
   ]
  },
  {
   "cell_type": "markdown",
   "id": "ee42c33b",
   "metadata": {},
   "source": [
    "Q7:-"
   ]
  },
  {
   "cell_type": "code",
   "execution_count": 6,
   "id": "0db8fcd9",
   "metadata": {},
   "outputs": [
    {
     "name": "stdout",
     "output_type": "stream",
     "text": [
      "30\n"
     ]
    }
   ],
   "source": [
    "max_value = lambda lst: max(lst)\n",
    "numbers = [10, 5, 20, 15, 30]\n",
    "max_result = max_value(numbers)\n",
    "print(max_result)  \n"
   ]
  },
  {
   "cell_type": "markdown",
   "id": "cc6e99bd",
   "metadata": {},
   "source": [
    "Q8:-"
   ]
  },
  {
   "cell_type": "code",
   "execution_count": 7,
   "id": "9c21fb00",
   "metadata": {},
   "outputs": [
    {
     "name": "stdout",
     "output_type": "stream",
     "text": [
      "[2, 4, 6, 8, 10]\n"
     ]
    }
   ],
   "source": [
    "filter_even = lambda lst: list(filter(lambda x: x % 2 == 0, lst))\n",
    "numbers = [1, 2, 3, 4, 5, 6, 7, 8, 9, 10]\n",
    "even_numbers = filter_even(numbers)\n",
    "print(even_numbers) \n"
   ]
  },
  {
   "cell_type": "markdown",
   "id": "1b4c4731",
   "metadata": {},
   "source": [
    "Q9:-"
   ]
  },
  {
   "cell_type": "code",
   "execution_count": 8,
   "id": "50b70d48",
   "metadata": {},
   "outputs": [
    {
     "name": "stdout",
     "output_type": "stream",
     "text": [
      "['date', 'apple', 'banana', 'cherry', 'elderberry']\n"
     ]
    }
   ],
   "source": [
    "sort_by_length = lambda lst: sorted(lst, key=lambda x: len(x))\n",
    "strings = [\"apple\", \"banana\", \"cherry\", \"date\", \"elderberry\"]\n",
    "sorted_strings = sort_by_length(strings)\n",
    "print(sorted_strings) \n"
   ]
  },
  {
   "cell_type": "markdown",
   "id": "b5a570ed",
   "metadata": {},
   "source": [
    "Q10:-"
   ]
  },
  {
   "cell_type": "code",
   "execution_count": 9,
   "id": "9f030b26",
   "metadata": {},
   "outputs": [
    {
     "name": "stdout",
     "output_type": "stream",
     "text": [
      "[3, 4, 5]\n"
     ]
    }
   ],
   "source": [
    "find_common_elements = lambda list1, list2: list(filter(lambda x: x in list2, list1))\n",
    "list1 = [1, 2, 3, 4, 5]\n",
    "list2 = [3, 4, 5, 6, 7]\n",
    "common_elements = find_common_elements(list1, list2)\n",
    "print(common_elements)  # Output: [3, 4, 5]\n"
   ]
  },
  {
   "cell_type": "markdown",
   "id": "076d9829",
   "metadata": {},
   "source": [
    "Q11:-"
   ]
  },
  {
   "cell_type": "code",
   "execution_count": 10,
   "id": "58cdf5d4",
   "metadata": {},
   "outputs": [
    {
     "name": "stdout",
     "output_type": "stream",
     "text": [
      "120\n"
     ]
    }
   ],
   "source": [
    "def factorial(n):\n",
    "    if n == 0 or n == 1:\n",
    "        return 1\n",
    "    else:\n",
    "        return n * factorial(n - 1)\n",
    "result = factorial(5)\n",
    "print(result)  \n"
   ]
  },
  {
   "cell_type": "markdown",
   "id": "b2044435",
   "metadata": {},
   "source": [
    "Q12:-"
   ]
  },
  {
   "cell_type": "code",
   "execution_count": 11,
   "id": "7a1185dc",
   "metadata": {},
   "outputs": [
    {
     "name": "stdout",
     "output_type": "stream",
     "text": [
      "8\n"
     ]
    }
   ],
   "source": [
    "def fibonacci(n):\n",
    "    if n <= 0:\n",
    "        return 0\n",
    "    elif n == 1:\n",
    "        return 1\n",
    "    else:\n",
    "        return fibonacci(n - 1) + fibonacci(n - 2)\n",
    "result = fibonacci(6)\n",
    "print(result) \n"
   ]
  },
  {
   "cell_type": "markdown",
   "id": "ac3ed4ed",
   "metadata": {},
   "source": [
    "Q13:-"
   ]
  },
  {
   "cell_type": "code",
   "execution_count": 12,
   "id": "e017a531",
   "metadata": {},
   "outputs": [
    {
     "name": "stdout",
     "output_type": "stream",
     "text": [
      "15\n"
     ]
    }
   ],
   "source": [
    "def recursive_sum(lst):\n",
    "    if not lst:\n",
    "        return 0\n",
    "    else:\n",
    "        return lst[0] + recursive_sum(lst[1:])\n",
    "numbers = [1, 2, 3, 4, 5]\n",
    "result = recursive_sum(numbers)\n",
    "print(result) \n"
   ]
  },
  {
   "cell_type": "markdown",
   "id": "c6088988",
   "metadata": {},
   "source": [
    "Q14:-"
   ]
  },
  {
   "cell_type": "code",
   "execution_count": 13,
   "id": "a634a362",
   "metadata": {},
   "outputs": [
    {
     "name": "stdout",
     "output_type": "stream",
     "text": [
      "True\n",
      "False\n"
     ]
    }
   ],
   "source": [
    "def is_palindrome(s):\n",
    "    s = s.lower().replace(\" \", \"\") \n",
    "    \n",
    "    if len(s) <= 1:\n",
    "        return True\n",
    "    else:\n",
    "        return s[0] == s[-1] and is_palindrome(s[1:-1])\n",
    "string1 = \"racecar\"\n",
    "string2 = \"hello\"\n",
    "\n",
    "print(is_palindrome(string1))  \n",
    "print(is_palindrome(string2))  \n"
   ]
  },
  {
   "cell_type": "markdown",
   "id": "b523c123",
   "metadata": {},
   "source": [
    "Q15:-"
   ]
  },
  {
   "cell_type": "code",
   "execution_count": 14,
   "id": "e21febc7",
   "metadata": {},
   "outputs": [
    {
     "name": "stdout",
     "output_type": "stream",
     "text": [
      "6\n"
     ]
    }
   ],
   "source": [
    "def gcd(a, b):\n",
    "    if b == 0:\n",
    "        return a\n",
    "    else:\n",
    "        return gcd(b, a % b)\n",
    "num1 = 48\n",
    "num2 = 18\n",
    "\n",
    "result = gcd(num1, num2)\n",
    "print(result)  \n"
   ]
  },
  {
   "cell_type": "code",
   "execution_count": null,
   "id": "1ca7404e",
   "metadata": {},
   "outputs": [],
   "source": []
  }
 ],
 "metadata": {
  "kernelspec": {
   "display_name": "Python 3 (ipykernel)",
   "language": "python",
   "name": "python3"
  },
  "language_info": {
   "codemirror_mode": {
    "name": "ipython",
    "version": 3
   },
   "file_extension": ".py",
   "mimetype": "text/x-python",
   "name": "python",
   "nbconvert_exporter": "python",
   "pygments_lexer": "ipython3",
   "version": "3.9.13"
  }
 },
 "nbformat": 4,
 "nbformat_minor": 5
}
